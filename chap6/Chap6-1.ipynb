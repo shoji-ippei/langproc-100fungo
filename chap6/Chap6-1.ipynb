{
 "cells": [
  {
   "cell_type": "markdown",
   "metadata": {},
   "source": [
    "## 51. 特徴量抽出"
   ]
  },
  {
   "cell_type": "code",
   "execution_count": 5,
   "metadata": {},
   "outputs": [],
   "source": [
    "import joblib\n",
    "import pandas as pd\n",
    "from sklearn.linear_model import LogisticRegression\n",
    "from sklearn.feature_extraction.text import CountVectorizer\n",
    "from sklearn.feature_extraction.text import TfidfVectorizer"
   ]
  },
  {
   "cell_type": "code",
   "execution_count": 1,
   "metadata": {},
   "outputs": [],
   "source": [
    "X_train = pd.read_table('../data/train.txt', sep='\\t', header=None)\n",
    "X_valid = pd.read_table('../data/valid.txt', sep='\\t', header=None)\n",
    "X_test = pd.read_table('../data/test.txt', sep='\\t', header=None)\n",
    "\n",
    "X_train['USE'] = 'train'\n",
    "X_valid['USE'] = 'valid'\n",
    "X_test['USE'] = 'test'\n",
    "X_df = pd.concat([X_train, X_valid, X_test]).reset_index(drop=True)\n",
    "X_df = X_df.rename(columns={0:'TITLE',1:'CATEGORY'})\n",
    "\n",
    "bow_vectorizer = CountVectorizer(token_pattern='(?u)\\\\b\\\\w+\\\\b')\n",
    "bow = bow_vectorizer.fit_transform(X_df['TITLE'])\n",
    "bow_vectorizer.get_feature_names()\n",
    "\n",
    "# tf_vectorizer = TfidfVectorizer(token_pattern='(?u)\\\\b\\\\w+\\\\b')\n",
    "# tfidf = tf_vectorizer.fit_transform(X_df['TITLE'])\n",
    "#tf_vectorizer.get_feature_names()\n",
    "\n",
    "X_df = pd.concat([X_df,pd.DataFrame(bow.toarray())], axis=1)\n",
    "#X_df = pd.concat([X_df,pd.DataFrame(tfidf.toarray())], axis=1)"
   ]
  },
  {
   "cell_type": "code",
   "execution_count": 2,
   "metadata": {},
   "outputs": [],
   "source": [
    "train = X_df[X_df['USE']=='train'].drop(['TITLE','CATEGORY','USE'],axis=1)\n",
    "valid = X_df[X_df['USE']=='valid'].drop(['TITLE','CATEGORY','USE'],axis=1)\n",
    "test = X_df[X_df['USE']=='test'].drop(['TITLE','CATEGORY','USE'],axis=1)"
   ]
  },
  {
   "cell_type": "code",
   "execution_count": 3,
   "metadata": {},
   "outputs": [],
   "source": [
    "train.to_csv('../data/train.feature.txt', sep='\\t', index=False, header=None)\n",
    "valid.to_csv('../data/valid.feature.txt', sep='\\t', index=False, header=None)\n",
    "test.to_csv('../data/test.feature.txt', sep='\\t', index=False, header=None)"
   ]
  },
  {
   "cell_type": "markdown",
   "metadata": {},
   "source": [
    "## 52. 学習"
   ]
  },
  {
   "cell_type": "code",
   "execution_count": 1,
   "metadata": {},
   "outputs": [],
   "source": [
    "X_train = pd.read_table('../data/train.feature.txt', header=None)\n",
    "y_train = pd.read_table('../data/train.txt', header=None)"
   ]
  },
  {
   "cell_type": "code",
   "execution_count": 3,
   "metadata": {},
   "outputs": [
    {
     "name": "stderr",
     "output_type": "stream",
     "text": [
      "/opt/conda/lib/python3.8/site-packages/sklearn/linear_model/_sag.py:329: ConvergenceWarning: The max_iter was reached which means the coef_ did not converge\n",
      "  warnings.warn(\"The max_iter was reached which means \"\n"
     ]
    },
    {
     "data": {
      "text/plain": [
       "LogisticRegression(random_state=0, solver='sag')"
      ]
     },
     "execution_count": 3,
     "metadata": {},
     "output_type": "execute_result"
    }
   ],
   "source": [
    "clf = LogisticRegression(penalty='l2', solver='sag', random_state=0)\n",
    "clf.fit(X_train, y_train[1])"
   ]
  },
  {
   "cell_type": "code",
   "execution_count": 4,
   "metadata": {},
   "outputs": [
    {
     "data": {
      "text/plain": [
       "['chap6_model.joblib']"
      ]
     },
     "execution_count": 4,
     "metadata": {},
     "output_type": "execute_result"
    }
   ],
   "source": [
    "joblib.dump(clf, 'chap6_model.joblib')"
   ]
  },
  {
   "cell_type": "markdown",
   "metadata": {},
   "source": [
    "## 53. 予測"
   ]
  }
 ],
 "metadata": {
  "kernelspec": {
   "display_name": "Python 3",
   "language": "python",
   "name": "python3"
  },
  "language_info": {
   "codemirror_mode": {
    "name": "ipython",
    "version": 3
   },
   "file_extension": ".py",
   "mimetype": "text/x-python",
   "name": "python",
   "nbconvert_exporter": "python",
   "pygments_lexer": "ipython3",
   "version": "3.8.3"
  }
 },
 "nbformat": 4,
 "nbformat_minor": 4
}
