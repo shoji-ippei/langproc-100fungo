{
  "nbformat": 4,
  "nbformat_minor": 0,
  "metadata": {
    "colab": {
      "name": "Chap1.ipynb",
      "provenance": [],
      "collapsed_sections": []
    },
    "kernelspec": {
      "name": "python3",
      "display_name": "Python 3"
    }
  },
  "cells": [
    {
      "cell_type": "markdown",
      "metadata": {
        "id": "qkh1qQX5zxw4",
        "colab_type": "text"
      },
      "source": [
        "# Chap. 1"
      ]
    },
    {
      "cell_type": "markdown",
      "metadata": {
        "id": "jueK4xrMz2j0",
        "colab_type": "text"
      },
      "source": [
        "## 00.文字列の逆順"
      ]
    },
    {
      "cell_type": "code",
      "metadata": {
        "id": "kPFtAHyrzT3h",
        "colab_type": "code",
        "colab": {
          "base_uri": "https://localhost:8080/",
          "height": 34
        },
        "outputId": "31c609b5-6563-4814-8ea6-1dff3319b61e"
      },
      "source": [
        "t=\"stressed\"\n",
        "print(t[::-1])"
      ],
      "execution_count": 1,
      "outputs": [
        {
          "output_type": "stream",
          "text": [
            "desserts\n"
          ],
          "name": "stdout"
        }
      ]
    },
    {
      "cell_type": "markdown",
      "metadata": {
        "id": "6pXC1rsfz7RK",
        "colab_type": "text"
      },
      "source": [
        "## 01. 「パタトクカシーー」"
      ]
    },
    {
      "cell_type": "code",
      "metadata": {
        "id": "u1jNp7Uezwth",
        "colab_type": "code",
        "colab": {
          "base_uri": "https://localhost:8080/",
          "height": 34
        },
        "outputId": "fc4a7f44-cf6d-4324-e15b-391cea3475fa"
      },
      "source": [
        "t=\"パタトクカシーー\"\n",
        "print(t[0]+t[2]+t[4]+t[6])"
      ],
      "execution_count": 2,
      "outputs": [
        {
          "output_type": "stream",
          "text": [
            "パトカー\n"
          ],
          "name": "stdout"
        }
      ]
    },
    {
      "cell_type": "markdown",
      "metadata": {
        "id": "tczRVb7m0Xlk",
        "colab_type": "text"
      },
      "source": [
        "## 02.「パトカー」＋「タクシー」＝「パタトクカシーー」"
      ]
    },
    {
      "cell_type": "code",
      "metadata": {
        "id": "ygtW3KmM0UzB",
        "colab_type": "code",
        "colab": {
          "base_uri": "https://localhost:8080/",
          "height": 34
        },
        "outputId": "22e59efd-b295-4961-a022-38430d432a8f"
      },
      "source": [
        "''.join(''.join(x) for x in zip(\"パトカー\", \"タクシー\"))"
      ],
      "execution_count": 6,
      "outputs": [
        {
          "output_type": "execute_result",
          "data": {
            "text/plain": [
              "'パタトクカシーー'"
            ]
          },
          "metadata": {
            "tags": []
          },
          "execution_count": 6
        }
      ]
    },
    {
      "cell_type": "markdown",
      "metadata": {
        "id": "mcpvOCqU1Zg9",
        "colab_type": "text"
      },
      "source": [
        "## 03. 円周率"
      ]
    },
    {
      "cell_type": "code",
      "metadata": {
        "id": "Dv-gDprJ1L8y",
        "colab_type": "code",
        "colab": {
          "base_uri": "https://localhost:8080/",
          "height": 34
        },
        "outputId": "79b6fd26-44d1-4ee5-bd5c-823fbd9b82a1"
      },
      "source": [
        "t=\"Now I need a drink, alcoholic of course, after the heavy lectures involving quantum mechanics.\"\n",
        "[len(x.rstrip(\",|.\")) for x in t.split()]"
      ],
      "execution_count": 16,
      "outputs": [
        {
          "output_type": "execute_result",
          "data": {
            "text/plain": [
              "[3, 1, 4, 1, 5, 9, 2, 6, 5, 3, 5, 8, 9, 7, 9]"
            ]
          },
          "metadata": {
            "tags": []
          },
          "execution_count": 16
        }
      ]
    },
    {
      "cell_type": "markdown",
      "metadata": {
        "id": "IucgMU3X4bAE",
        "colab_type": "text"
      },
      "source": [
        "## 04. 元素記号"
      ]
    },
    {
      "cell_type": "code",
      "metadata": {
        "id": "81E6FOtC15Hc",
        "colab_type": "code",
        "colab": {
          "base_uri": "https://localhost:8080/",
          "height": 54
        },
        "outputId": "3efd5055-4e7d-4779-a5c0-e3a8ee3366da"
      },
      "source": [
        "t=\"Hi He Lied Because Boron Could Not Oxidize Fluorine. New Nations Might Also Sign Peace Security Clause. Arthur King Can.\"\n",
        "n=[1, 5, 6, 7, 8, 9, 15, 16, 19]\n",
        "d={}\n",
        "for i, tx in enumerate([x.rstrip(\",|.\") for x in t.split()]):\n",
        "  d[i+1] = tx[0] if (i+1 in n) else tx[0:2]\n",
        "print(d)\n"
      ],
      "execution_count": 24,
      "outputs": [
        {
          "output_type": "stream",
          "text": [
            "{1: 'H', 2: 'He', 3: 'Li', 4: 'Be', 5: 'B', 6: 'C', 7: 'N', 8: 'O', 9: 'F', 10: 'Ne', 11: 'Na', 12: 'Mi', 13: 'Al', 14: 'Si', 15: 'P', 16: 'S', 17: 'Cl', 18: 'Ar', 19: 'K', 20: 'Ca'}\n"
          ],
          "name": "stdout"
        }
      ]
    },
    {
      "cell_type": "markdown",
      "metadata": {
        "id": "zpQSJwnk7hLv",
        "colab_type": "text"
      },
      "source": [
        "## 05. n-gram"
      ]
    },
    {
      "cell_type": "code",
      "metadata": {
        "id": "SPJvpL004-eV",
        "colab_type": "code",
        "colab": {
          "base_uri": "https://localhost:8080/",
          "height": 51
        },
        "outputId": "9ba897e3-e961-487c-c70d-2c0623a06e35"
      },
      "source": [
        "def hoge_n_gram(txt, n):\n",
        "  return [txt[i:i+n] for i in range(len(txt) - n + 1)]\n",
        "\n",
        "str_bi = hoge_n_gram(\"I am an NLPer\",2)\n",
        "wrd_bi = hoge_n_gram(\"I am an NLPer\".split(),2)\n",
        "print(str_bi)\n",
        "print(wrd_bi)"
      ],
      "execution_count": 27,
      "outputs": [
        {
          "output_type": "stream",
          "text": [
            "['I ', ' a', 'am', 'm ', ' a', 'an', 'n ', ' N', 'NL', 'LP', 'Pe', 'er']\n",
            "[['I', 'am'], ['am', 'an'], ['an', 'NLPer']]\n"
          ],
          "name": "stdout"
        }
      ]
    },
    {
      "cell_type": "markdown",
      "metadata": {
        "id": "r6BnaHDn96yL",
        "colab_type": "text"
      },
      "source": [
        "## 06. 集合"
      ]
    },
    {
      "cell_type": "code",
      "metadata": {
        "id": "4FzpNZX_9aPh",
        "colab_type": "code",
        "colab": {
          "base_uri": "https://localhost:8080/",
          "height": 119
        },
        "outputId": "1a11f7e4-ef09-4217-97ec-a3e04a7fd5f9"
      },
      "source": [
        "x=set(hoge_n_gram(\"paraparaparadise\",2))\n",
        "y=set(hoge_n_gram(\"paragraph\",2))\n",
        "print(\"union:\", x|y)\n",
        "print(\"intersection:\", x&y)\n",
        "print(\"diff(X-Y):\", x-y)\n",
        "print(\"diff(Y-X):\", y-x)\n",
        "print(\"se included X?:\", {'se'}<=x)\n",
        "print(\"se included Y?:\", {'se'}<=y)"
      ],
      "execution_count": 35,
      "outputs": [
        {
          "output_type": "stream",
          "text": [
            "union: {'ag', 'pa', 'ph', 'gr', 'ad', 'di', 'ap', 'ra', 'ar', 'is', 'se'}\n",
            "intersection: {'ap', 'ra', 'pa', 'ar'}\n",
            "diff(X-Y): {'ad', 'is', 'se', 'di'}\n",
            "diff(Y-X): {'ag', 'ph', 'gr'}\n",
            "se included X?: True\n",
            "se included Y?: False\n"
          ],
          "name": "stdout"
        }
      ]
    },
    {
      "cell_type": "markdown",
      "metadata": {
        "id": "bN3b2-jEAboH",
        "colab_type": "text"
      },
      "source": [
        "## 07. テンプレートによる文生成"
      ]
    },
    {
      "cell_type": "code",
      "metadata": {
        "id": "RcuOjU9k-hnj",
        "colab_type": "code",
        "colab": {
          "base_uri": "https://localhost:8080/",
          "height": 34
        },
        "outputId": "3a428502-ec19-4be4-f935-ec6a36bb3c71"
      },
      "source": [
        "def tmp_txt(x,y,z):\n",
        "  return f'{x}時の{y}は{z}'\n",
        "\n",
        "tmp_txt(12,\"気温\",22.4)"
      ],
      "execution_count": 36,
      "outputs": [
        {
          "output_type": "execute_result",
          "data": {
            "text/plain": [
              "'12時の気温は22.4'"
            ]
          },
          "metadata": {
            "tags": []
          },
          "execution_count": 36
        }
      ]
    },
    {
      "cell_type": "markdown",
      "metadata": {
        "id": "yTAnts6MBJUv",
        "colab_type": "text"
      },
      "source": [
        "## 08. 暗号文"
      ]
    },
    {
      "cell_type": "code",
      "metadata": {
        "id": "TTbbBvZDBFqG",
        "colab_type": "code",
        "colab": {
          "base_uri": "https://localhost:8080/",
          "height": 51
        },
        "outputId": "cd0ceb96-eddb-4d44-f5ea-f7b4933333d3"
      },
      "source": [
        "def cipher(txt):\n",
        "  res=''\n",
        "  for x in txt:\n",
        "    res += chr(219-ord(x)) if x.islower() else x\n",
        "  return res\n",
        "\n",
        "print('暗号化',cipher(\"It is awesome weather today in Tokyo.\"))\n",
        "print('復号化',cipher(cipher(\"It is awesome weather today in Tokyo.\")))"
      ],
      "execution_count": 54,
      "outputs": [
        {
          "output_type": "stream",
          "text": [
            "暗号化 Ig rh zdvhlnv dvzgsvi glwzb rm Tlpbl.\n",
            "復号化 It is awesome weather today in Tokyo.\n"
          ],
          "name": "stdout"
        }
      ]
    },
    {
      "cell_type": "markdown",
      "metadata": {
        "id": "LAuER_lGITWz",
        "colab_type": "text"
      },
      "source": [
        "## 09. Typoglycemia"
      ]
    },
    {
      "cell_type": "code",
      "metadata": {
        "id": "ImVOw2YXBKxf",
        "colab_type": "code",
        "colab": {
          "base_uri": "https://localhost:8080/",
          "height": 34
        },
        "outputId": "5c8d7df0-b189-4e43-ea83-a768a782b122"
      },
      "source": [
        "import random\n",
        "\n",
        "t=\"I couldn't believe that I could actually understand what I was reading : the phenomenal power of the human mind .\"\n",
        "res = []\n",
        "for c in [x for x in t.split()]:\n",
        "  res.append(c) if len(c) <= 4 else res.append(c[:1] + ''.join(random.sample(c[1:-1], len(c[1:-1]))) + c[-1:])\n",
        "' '.join(res)"
      ],
      "execution_count": 71,
      "outputs": [
        {
          "output_type": "execute_result",
          "data": {
            "text/plain": [
              "\"I clud'not bevelie that I cloud aucltlay untdnserad what I was rniadeg : the phmnoeaenl pweor of the hmuan mind .\""
            ]
          },
          "metadata": {
            "tags": []
          },
          "execution_count": 71
        }
      ]
    },
    {
      "cell_type": "code",
      "metadata": {
        "id": "HHb2q8fVI-JU",
        "colab_type": "code",
        "colab": {}
      },
      "source": [
        ""
      ],
      "execution_count": 0,
      "outputs": []
    }
  ]
}